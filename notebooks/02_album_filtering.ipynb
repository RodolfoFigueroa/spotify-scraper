{
 "cells": [
  {
   "cell_type": "code",
   "execution_count": 1,
   "id": "78917d4f-966b-46c6-8e6c-ab287ff0bd8d",
   "metadata": {},
   "outputs": [],
   "source": [
    "import pandas as pd"
   ]
  },
  {
   "cell_type": "code",
   "execution_count": 3,
   "id": "d924bf6a-0615-4bc3-b93c-b1cacc29768f",
   "metadata": {},
   "outputs": [],
   "source": [
    "df = pd.read_csv(\"../files/albums.csv\")\n",
    "df = df.drop_duplicates(subset = ['id'])"
   ]
  },
  {
   "cell_type": "code",
   "execution_count": 7,
   "id": "c41723ee-232b-4374-8bbe-15033719a439",
   "metadata": {},
   "outputs": [],
   "source": [
    "df.to_csv(\"../files/albums.csv\", index=False)"
   ]
  },
  {
   "cell_type": "code",
   "execution_count": 7,
   "id": "4f0c6eb1-6298-4c5d-9bb6-bba0e9767487",
   "metadata": {},
   "outputs": [],
   "source": [
    "df_index = df[['name', 'artists', 'markets', 'total_tracks']].copy()\n",
    "df_index = df_index[df_index['markets'].str.len() > 2]\n",
    "df_index['name'] = df_index['name'].str.casefold()\n",
    "df_index['len'] = df_index['markets'].str.len()\n",
    "df_index = df_index.sort_values('len', ascending=False)\n",
    "df_index = df_index.drop_duplicates(subset=['name', 'artists', 'total_tracks'], keep='first')"
   ]
  },
  {
   "cell_type": "code",
   "execution_count": 8,
   "id": "741ee174-8155-4688-a20e-cb4fe898b165",
   "metadata": {},
   "outputs": [],
   "source": [
    "df_filtered = df.loc[df_index.index]"
   ]
  },
  {
   "cell_type": "code",
   "execution_count": 4,
   "id": "2d381251-20da-4e1c-a21b-48e1af12ec23",
   "metadata": {},
   "outputs": [],
   "source": [
    "df_filtered.to_csv(\"../files/albums_filtered.csv\", index=False)"
   ]
  },
  {
   "cell_type": "code",
   "execution_count": 8,
   "id": "399ef9dd-98f2-4621-8932-b406cb4bec35",
   "metadata": {},
   "outputs": [
    {
     "data": {
      "text/plain": [
       "1"
      ]
     },
     "execution_count": 8,
     "metadata": {},
     "output_type": "execute_result"
    }
   ],
   "source": [
    "1"
   ]
  }
 ],
 "metadata": {
  "interpreter": {
   "hash": "5cf1c7fdcc8eac581bc272ae869e2d5d8737e487f1c4e29769f51c888855cbc4"
  },
  "kernelspec": {
   "display_name": "Python 3 (ipykernel)",
   "language": "python",
   "name": "python3"
  },
  "language_info": {
   "codemirror_mode": {
    "name": "ipython",
    "version": 3
   },
   "file_extension": ".py",
   "mimetype": "text/x-python",
   "name": "python",
   "nbconvert_exporter": "python",
   "pygments_lexer": "ipython3",
   "version": "3.8.12"
  }
 },
 "nbformat": 4,
 "nbformat_minor": 5
}
