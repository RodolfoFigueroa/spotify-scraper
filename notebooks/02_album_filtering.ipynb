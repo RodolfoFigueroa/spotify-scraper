{
 "cells": [
  {
   "cell_type": "code",
   "execution_count": 1,
   "id": "78917d4f-966b-46c6-8e6c-ab287ff0bd8d",
   "metadata": {},
   "outputs": [],
   "source": [
    "import pandas as pd"
   ]
  },
  {
   "cell_type": "code",
   "execution_count": 9,
   "id": "5c4b72a9-7334-4a64-bd57-bfd5a62e19a0",
   "metadata": {},
   "outputs": [],
   "source": [
    "df = pd.read_csv(\"../backups/albums.csv\")\n",
    "df = df.dropna()\n",
    "df = df[df['markets'].str.len() > 2]\n",
    "df = df.drop_duplicates(subset=['id'])"
   ]
  },
  {
   "cell_type": "code",
   "execution_count": 10,
   "id": "741ee174-8155-4688-a20e-cb4fe898b165",
   "metadata": {},
   "outputs": [],
   "source": [
    "df_temp = df.copy()\n",
    "df_temp['name'] = df_temp['name'].str.casefold()\n",
    "df_temp['len'] = df_temp['markets'].str.len()\n",
    "df_temp = df_temp.sort_values('len', ascending=False)\n",
    "df_temp = df_temp[~df_temp.duplicated(subset = ['name', 'artists', 'total_tracks'], keep = 'first')]\n",
    "\n",
    "df = df.loc[df_temp.index]\n",
    "del df_temp"
   ]
  },
  {
   "cell_type": "code",
   "execution_count": 14,
   "id": "47d16037-b3e4-4455-b812-887e406eaede",
   "metadata": {},
   "outputs": [],
   "source": [
    "df = df[['id']]"
   ]
  },
  {
   "cell_type": "code",
   "execution_count": 16,
   "id": "2d381251-20da-4e1c-a21b-48e1af12ec23",
   "metadata": {},
   "outputs": [],
   "source": [
    "df.to_csv(\"../backups/albums_filtered.csv\", index=False)"
   ]
  },
  {
   "cell_type": "code",
   "execution_count": null,
   "id": "399ef9dd-98f2-4621-8932-b406cb4bec35",
   "metadata": {},
   "outputs": [],
   "source": []
  }
 ],
 "metadata": {
  "kernelspec": {
   "display_name": "Python 3 (ipykernel)",
   "language": "python",
   "name": "python3"
  },
  "language_info": {
   "codemirror_mode": {
    "name": "ipython",
    "version": 3
   },
   "file_extension": ".py",
   "mimetype": "text/x-python",
   "name": "python",
   "nbconvert_exporter": "python",
   "pygments_lexer": "ipython3",
   "version": "3.8.12"
  }
 },
 "nbformat": 4,
 "nbformat_minor": 5
}
