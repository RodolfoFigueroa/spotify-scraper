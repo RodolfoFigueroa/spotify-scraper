{
 "cells": [
  {
   "cell_type": "code",
   "execution_count": 1,
   "id": "e5a145b0-8ee5-4f7a-a70e-c079432bb815",
   "metadata": {},
   "outputs": [],
   "source": [
    "import pandas as pd\n",
    "import numpy as np"
   ]
  },
  {
   "cell_type": "code",
   "execution_count": 2,
   "id": "da697f57-b737-4749-8d08-73f8d45c9ae4",
   "metadata": {},
   "outputs": [],
   "source": [
    "df = pd.read_csv(\"../backups/albums.csv\")"
   ]
  },
  {
   "cell_type": "code",
   "execution_count": 153,
   "id": "431bc3e6-02d9-40bd-9430-14fdac3985c1",
   "metadata": {},
   "outputs": [],
   "source": [
    "queried = []\n",
    "with open(\"../test.txt\", 'r') as f:\n",
    "    for line in f:\n",
    "        queried.append(line.strip().split(','))\n",
    "queried_flat = [x for subl in queried for x in subl]"
   ]
  },
  {
   "cell_type": "code",
   "execution_count": 154,
   "id": "f3dec62f-2941-484c-ad76-e125dcf6acf8",
   "metadata": {},
   "outputs": [],
   "source": [
    "added = []\n",
    "with open(\"../added.txt\", 'r') as f:\n",
    "    for line in f:\n",
    "        added.append(line.strip().split(','))\n",
    "added_flat = [x for subl in added for x in subl]"
   ]
  },
  {
   "cell_type": "code",
   "execution_count": 156,
   "id": "51da99a5-fbc8-43e6-9fc9-ded04232e77c",
   "metadata": {},
   "outputs": [
    {
     "data": {
      "text/plain": [
       "array([25, 25, 25, 25, 25, 25, 25, 25, 25, 25, 25, 25, 25,  1,  1,  1,  1,\n",
       "        1,  1,  1,  1,  1,  1,  1,  1,  1,  1,  1,  1,  1,  1,  1,  1,  1,\n",
       "        1,  1,  1,  1,  1,  1,  1,  1,  1,  1,  1,  1,  1,  1,  1,  1,  1,\n",
       "        1,  1,  1,  1,  1,  1,  1,  1,  1,  1,  1,  1,  1,  1,  1,  1,  1,\n",
       "        1,  1,  1,  1,  1,  1,  1,  1,  1,  1,  1,  1,  1,  1,  1,  1,  1,\n",
       "        1,  1,  1,  1,  1,  1,  1,  1,  1,  1,  1,  1,  1,  1,  1,  1,  1,\n",
       "        1,  1,  1])"
      ]
     },
     "execution_count": 156,
     "metadata": {},
     "output_type": "execute_result"
    }
   ],
   "source": [
    "counts[idx]"
   ]
  },
  {
   "cell_type": "code",
   "execution_count": 155,
   "id": "88013c30-6c90-4004-9122-0be175100d47",
   "metadata": {},
   "outputs": [
    {
     "data": {
      "text/plain": [
       "array(['03NKHAkbP5oEGarLrVuLPi', '36yJ6fcaSCVsK1tybnNizj',\n",
       "       '4tlH1V9ulWCtk00P6PFd9q', '4jfF46nFNSLzEOXTUbobTC',\n",
       "       '2jv9TMCiyAByAIBc1KvStg', '0yRp5N2gMaNg3BZNF9WPVz',\n",
       "       '0wQpKLNavM2B8PZRMiO95X', '32kYNP7QMTm1lLZEfWgr6d',\n",
       "       '0wRQd4BOBgxrFSdkB1e4XK', '3Jetgsos8wDQQdwIEqPKIh',\n",
       "       '3caysE6IpRzBNNsvMnRR3j', '0G4e4lW2mY72QDkKiice1n',\n",
       "       '09LCmSkhInAoSjBKHOODew', '2RVICzZYeA3p2DhTTDR0ey',\n",
       "       '254xyV8eHeFyvhRO0XbmCK', '3LGfw60cHejrBCw7jsQVmo',\n",
       "       '2DmWsF5NT5cT2drdndyLxa', '2HPHFgZ4oEuJKuCmEjL2qE',\n",
       "       '2K6mAOwcJIcRWFPMDK9h57', '2NDVsw6GT1SquqTt0jIp7J',\n",
       "       '2YwCH0n5UgltCTNAfjG7o8', '2tJKmjJt1VeKyEJ92uPc73',\n",
       "       '2ZDfLfC0IDpHZmlZd1US3L', '2dTS7b1U0DOLiDfG4opzly',\n",
       "       '3KOCUEwyljQaeN4VEsAXMu', '1qL2baXtFFkXZ9YFe0z6MF',\n",
       "       '2nvSqu7gK1jlNKyAdtu1Kj', '2r8l1MaEQPcKLViL6ENet3',\n",
       "       '1rG7AgHb5oa1342KDDzqmZ', '1m5FO8oT0xe29unhFhYI8R',\n",
       "       '1pvE6teCV6tmRBLa9cPZCK', '1pXgz0V6knAAJewisgXHAW',\n",
       "       '04BHhceq0evOpyHm1YlGAC', '0DP9NNQCJUcIpUSTsCg83J',\n",
       "       '0Ws5WIvPsG5PmX5d4Dveb7', '0dQfSXGNk7cShh5TKtD7Uw',\n",
       "       '0hp9GY7vLroUDlwhXvJMMo', '0iiHHAmnynvySF3WA8iYoB',\n",
       "       '0lfF3ESEd6rtegq6YS9Lws', '0pmQI4KBbPp4V3toOTcMWq',\n",
       "       '0rsMhZgjOGfwXcSU0na77l', '0yZU2ZmnDscWfDdyjoI2lp',\n",
       "       '0yvV76eZdNFvEimStnaYKA', '1770bB1jcp1YujwWeuAezH',\n",
       "       '17wiR9oSlObr3RKG4ogAQy', '1GiNlCOX5zuguYojkrYTBe',\n",
       "       '1LGaQRLqAXaDy93dEiqC9Q', '1LIF8BXl9lMv3MtyJhHanh',\n",
       "       '1Qh9G4wuSdunU0tKQcxK9s', '1TKyTSIXvzkp8kZMZgS0US',\n",
       "       '1fsfmau44End5J7KDC3Sq3', '1lbbDwOOJrXlzMYFwia2lP',\n",
       "       '3UIIf6HFpM2PnzfLaZjT7t', '3PlE06KGnCeTcQD17F4Lzt',\n",
       "       '7yhgTq2ShpI6RBL0A7Rku6', '3UQso0kUOqt5rWzvEq85Bg',\n",
       "       '6ojXP70pk7INYK9rLi9r7l', '5yfWoa9fuH0rxcxomx2eo6',\n",
       "       '61IsiTZRokVPdFqp9kcAlj', '6MYIYhQmDjxCDBPSZeeClG',\n",
       "       '6TpjrWqmQ5p6IRLrvo1sLI', '6Ty8NlpDLob3UmfAAKBHOu',\n",
       "       '6XxTtWtAH3kE4EW3fgkP6x', '6ZU1HI1apwmCWk9U5e2K6E',\n",
       "       '6c5SSHaVZKHlIdA25ngipX', '6dOiT8ocQJcsVgOXsugxVe',\n",
       "       '6mkcki5vUfhdBh29BXYKGI', '6sC2ids1sq6T9g92v6CZJg',\n",
       "       '7pURMPEa5E34YP3IGkPgzp', '6uD6BVQAaRi9hDyfcSg5IF',\n",
       "       '6xZBvmmrVwQdSYGzqOUDAr', '725Q3vL9ACt6PvguIPLzSq',\n",
       "       '74ydQdwfFn9ZRxRmLCXIyp', '76TIBF2u6rx8KiVfaE9Y4M',\n",
       "       '7MMSThnAbWcLFrh0OyzE5p', '7acOYT11OW3Igqj2XYQQD1',\n",
       "       '7eTj6PHzvoal9fbVL85hQs', '7fADhdY0rGmpvIBYdDFDby',\n",
       "       '7hgNqW7GQATCiA2IWM2i3z', '5xDysWUsYmZZxLNfFVrYxH',\n",
       "       '5si1o9f4Js7zordRYQYHH0', '5nQFbZMJSfl8qgmZha9fch',\n",
       "       '5cjtl6B9vSK5wAQdWzSSCH', '3cEShQ9bQ0iYafKVPbYggP',\n",
       "       '3ctKaQoV8xieSDuo1DDhl3', '3mrGb9Pi7XmO8XYrRlOhdV',\n",
       "       '3txeXEwjzhGbSgxWdhSCBL', '40816LEh5A7sr4vIdCOFFc',\n",
       "       '47SRRQTZDO0SpBeR2Xh12G', '48BjemxZyiySk2s6HHUfrM',\n",
       "       '4K14p1s0qLCgVbKT9MVlRq', '4SCkn8OTsjPlBeNJrSo6hY',\n",
       "       '4ZHTXaO3CjJNP2Q34MCA13', '4ah7o7qIWN08yVit1BrA14',\n",
       "       '4iXIuGHf7T5z2zx75yrInF', '4jQkNiaZLMJ44ryP5TWcDD',\n",
       "       '4piagGBOYhHD4vMq2W4Wjq', '4rq8pR9b2ylUyTpXPTmPKF',\n",
       "       '4sJJbXa5Wy7yOE2c0ZNUKU', '50vBJS4lq8VMGNjHqK9Stm',\n",
       "       '51sP8ODHUEOxOENH7dG1Ie', '5ACzdmwSfDMYAE2YraNPrM',\n",
       "       '5O566WzLNANB7r9uEzVUj0', '5aY0hiEAAJxl5Q9iPMjoct',\n",
       "       '3Z7c77GY5DWRbl4Ry7ltD0'], dtype='<U22')"
      ]
     },
     "execution_count": 155,
     "metadata": {},
     "output_type": "execute_result"
    }
   ],
   "source": [
    "unique, counts = np.unique(queried_flat, return_counts=True)\n",
    "idx = np.argsort(counts)[::-1]\n",
    "unique[idx]"
   ]
  },
  {
   "cell_type": "code",
   "execution_count": 54,
   "id": "135d20dd-21a0-4f51-84d4-22dc44f66805",
   "metadata": {},
   "outputs": [],
   "source": [
    "df = pd.read_csv(\"../songs.csv\")"
   ]
  },
  {
   "cell_type": "code",
   "execution_count": 55,
   "id": "0ca4136e-ee12-43c3-8795-fe9c28888bed",
   "metadata": {},
   "outputs": [
    {
     "data": {
      "text/plain": [
       "67019"
      ]
     },
     "execution_count": 55,
     "metadata": {},
     "output_type": "execute_result"
    }
   ],
   "source": [
    "sum(df.id.duplicated())"
   ]
  },
  {
   "cell_type": "code",
   "execution_count": 56,
   "id": "edcb2b88-eba0-4b46-ab5a-907eda840982",
   "metadata": {},
   "outputs": [
    {
     "data": {
      "text/html": [
       "<div>\n",
       "<style scoped>\n",
       "    .dataframe tbody tr th:only-of-type {\n",
       "        vertical-align: middle;\n",
       "    }\n",
       "\n",
       "    .dataframe tbody tr th {\n",
       "        vertical-align: top;\n",
       "    }\n",
       "\n",
       "    .dataframe thead th {\n",
       "        text-align: right;\n",
       "    }\n",
       "</style>\n",
       "<table border=\"1\" class=\"dataframe\">\n",
       "  <thead>\n",
       "    <tr style=\"text-align: right;\">\n",
       "      <th></th>\n",
       "      <th>id</th>\n",
       "      <th>name</th>\n",
       "      <th>album</th>\n",
       "      <th>artists</th>\n",
       "      <th>duration_ms</th>\n",
       "      <th>explicit</th>\n",
       "      <th>disc_number</th>\n",
       "      <th>track_number</th>\n",
       "    </tr>\n",
       "  </thead>\n",
       "  <tbody>\n",
       "    <tr>\n",
       "      <th>0</th>\n",
       "      <td>0VYt26xKmGRO3WQxpeMQ0H</td>\n",
       "      <td>Tid och rum</td>\n",
       "      <td>48BjemxZyiySk2s6HHUfrM</td>\n",
       "      <td>[\"0RLWJI1UwVofxre5k3py4a\"]</td>\n",
       "      <td>210813</td>\n",
       "      <td>0</td>\n",
       "      <td>1</td>\n",
       "      <td>1</td>\n",
       "    </tr>\n",
       "    <tr>\n",
       "      <th>1</th>\n",
       "      <td>5r8j987PNnaRYgwbQHrfDt</td>\n",
       "      <td>Viskningar och rop (feat. Julia Spada)</td>\n",
       "      <td>48BjemxZyiySk2s6HHUfrM</td>\n",
       "      <td>[\"0RLWJI1UwVofxre5k3py4a\",\"0GtgBnMAiOhU6MebyAB...</td>\n",
       "      <td>225866</td>\n",
       "      <td>0</td>\n",
       "      <td>1</td>\n",
       "      <td>2</td>\n",
       "    </tr>\n",
       "    <tr>\n",
       "      <th>2</th>\n",
       "      <td>2v5baz6LS8zD82DTWVsg4q</td>\n",
       "      <td>BRD (Bergsprängare) - Original</td>\n",
       "      <td>48BjemxZyiySk2s6HHUfrM</td>\n",
       "      <td>[\"0RLWJI1UwVofxre5k3py4a\"]</td>\n",
       "      <td>194693</td>\n",
       "      <td>0</td>\n",
       "      <td>1</td>\n",
       "      <td>3</td>\n",
       "    </tr>\n",
       "    <tr>\n",
       "      <th>3</th>\n",
       "      <td>0N7LK9GWSLuEUJ60aFhW00</td>\n",
       "      <td>Vad du vill (feat. Kim Cesarion)</td>\n",
       "      <td>48BjemxZyiySk2s6HHUfrM</td>\n",
       "      <td>[\"0RLWJI1UwVofxre5k3py4a\",\"1FbsmLXvj5CccZj6JLk...</td>\n",
       "      <td>207480</td>\n",
       "      <td>0</td>\n",
       "      <td>1</td>\n",
       "      <td>4</td>\n",
       "    </tr>\n",
       "    <tr>\n",
       "      <th>4</th>\n",
       "      <td>27TU80zqDKTTbrLA3sARAr</td>\n",
       "      <td>Den där shonnen</td>\n",
       "      <td>48BjemxZyiySk2s6HHUfrM</td>\n",
       "      <td>[\"0RLWJI1UwVofxre5k3py4a\"]</td>\n",
       "      <td>231213</td>\n",
       "      <td>0</td>\n",
       "      <td>1</td>\n",
       "      <td>5</td>\n",
       "    </tr>\n",
       "    <tr>\n",
       "      <th>...</th>\n",
       "      <td>...</td>\n",
       "      <td>...</td>\n",
       "      <td>...</td>\n",
       "      <td>...</td>\n",
       "      <td>...</td>\n",
       "      <td>...</td>\n",
       "      <td>...</td>\n",
       "      <td>...</td>\n",
       "    </tr>\n",
       "    <tr>\n",
       "      <th>72047</th>\n",
       "      <td>4NFCVb6snjuFTi60m5n0Ij</td>\n",
       "      <td>Hablando Con Los Animales</td>\n",
       "      <td>0G4e4lW2mY72QDkKiice1n</td>\n",
       "      <td>[\"3GOlkpNORG58DAXrR7qJIa\"]</td>\n",
       "      <td>139226</td>\n",
       "      <td>0</td>\n",
       "      <td>1</td>\n",
       "      <td>8</td>\n",
       "    </tr>\n",
       "    <tr>\n",
       "      <th>72048</th>\n",
       "      <td>7dMFl86gpB978gcbQNJw0o</td>\n",
       "      <td>El Violin</td>\n",
       "      <td>0G4e4lW2mY72QDkKiice1n</td>\n",
       "      <td>[\"3GOlkpNORG58DAXrR7qJIa\"]</td>\n",
       "      <td>217333</td>\n",
       "      <td>0</td>\n",
       "      <td>1</td>\n",
       "      <td>9</td>\n",
       "    </tr>\n",
       "    <tr>\n",
       "      <th>72049</th>\n",
       "      <td>0KfwV0ehumXCyCagGBAuE7</td>\n",
       "      <td>Mi Ranchito</td>\n",
       "      <td>0G4e4lW2mY72QDkKiice1n</td>\n",
       "      <td>[\"3GOlkpNORG58DAXrR7qJIa\"]</td>\n",
       "      <td>164493</td>\n",
       "      <td>0</td>\n",
       "      <td>1</td>\n",
       "      <td>10</td>\n",
       "    </tr>\n",
       "    <tr>\n",
       "      <th>72050</th>\n",
       "      <td>1k4mOLfwjVP4iKT4TDIYEs</td>\n",
       "      <td>Mamita Bonita</td>\n",
       "      <td>0G4e4lW2mY72QDkKiice1n</td>\n",
       "      <td>[\"3GOlkpNORG58DAXrR7qJIa\"]</td>\n",
       "      <td>174333</td>\n",
       "      <td>0</td>\n",
       "      <td>1</td>\n",
       "      <td>11</td>\n",
       "    </tr>\n",
       "    <tr>\n",
       "      <th>72051</th>\n",
       "      <td>4KVSHK3dQCjaPVJSrnlLYN</td>\n",
       "      <td>Marcelino Pan Y Vino</td>\n",
       "      <td>0G4e4lW2mY72QDkKiice1n</td>\n",
       "      <td>[\"3GOlkpNORG58DAXrR7qJIa\"]</td>\n",
       "      <td>134893</td>\n",
       "      <td>0</td>\n",
       "      <td>1</td>\n",
       "      <td>12</td>\n",
       "    </tr>\n",
       "  </tbody>\n",
       "</table>\n",
       "<p>72052 rows × 8 columns</p>\n",
       "</div>"
      ],
      "text/plain": [
       "                           id                                    name  \\\n",
       "0      0VYt26xKmGRO3WQxpeMQ0H                             Tid och rum   \n",
       "1      5r8j987PNnaRYgwbQHrfDt  Viskningar och rop (feat. Julia Spada)   \n",
       "2      2v5baz6LS8zD82DTWVsg4q          BRD (Bergsprängare) - Original   \n",
       "3      0N7LK9GWSLuEUJ60aFhW00        Vad du vill (feat. Kim Cesarion)   \n",
       "4      27TU80zqDKTTbrLA3sARAr                         Den där shonnen   \n",
       "...                       ...                                     ...   \n",
       "72047  4NFCVb6snjuFTi60m5n0Ij               Hablando Con Los Animales   \n",
       "72048  7dMFl86gpB978gcbQNJw0o                               El Violin   \n",
       "72049  0KfwV0ehumXCyCagGBAuE7                             Mi Ranchito   \n",
       "72050  1k4mOLfwjVP4iKT4TDIYEs                           Mamita Bonita   \n",
       "72051  4KVSHK3dQCjaPVJSrnlLYN                    Marcelino Pan Y Vino   \n",
       "\n",
       "                        album  \\\n",
       "0      48BjemxZyiySk2s6HHUfrM   \n",
       "1      48BjemxZyiySk2s6HHUfrM   \n",
       "2      48BjemxZyiySk2s6HHUfrM   \n",
       "3      48BjemxZyiySk2s6HHUfrM   \n",
       "4      48BjemxZyiySk2s6HHUfrM   \n",
       "...                       ...   \n",
       "72047  0G4e4lW2mY72QDkKiice1n   \n",
       "72048  0G4e4lW2mY72QDkKiice1n   \n",
       "72049  0G4e4lW2mY72QDkKiice1n   \n",
       "72050  0G4e4lW2mY72QDkKiice1n   \n",
       "72051  0G4e4lW2mY72QDkKiice1n   \n",
       "\n",
       "                                                 artists  duration_ms  \\\n",
       "0                             [\"0RLWJI1UwVofxre5k3py4a\"]       210813   \n",
       "1      [\"0RLWJI1UwVofxre5k3py4a\",\"0GtgBnMAiOhU6MebyAB...       225866   \n",
       "2                             [\"0RLWJI1UwVofxre5k3py4a\"]       194693   \n",
       "3      [\"0RLWJI1UwVofxre5k3py4a\",\"1FbsmLXvj5CccZj6JLk...       207480   \n",
       "4                             [\"0RLWJI1UwVofxre5k3py4a\"]       231213   \n",
       "...                                                  ...          ...   \n",
       "72047                         [\"3GOlkpNORG58DAXrR7qJIa\"]       139226   \n",
       "72048                         [\"3GOlkpNORG58DAXrR7qJIa\"]       217333   \n",
       "72049                         [\"3GOlkpNORG58DAXrR7qJIa\"]       164493   \n",
       "72050                         [\"3GOlkpNORG58DAXrR7qJIa\"]       174333   \n",
       "72051                         [\"3GOlkpNORG58DAXrR7qJIa\"]       134893   \n",
       "\n",
       "       explicit  disc_number  track_number  \n",
       "0             0            1             1  \n",
       "1             0            1             2  \n",
       "2             0            1             3  \n",
       "3             0            1             4  \n",
       "4             0            1             5  \n",
       "...         ...          ...           ...  \n",
       "72047         0            1             8  \n",
       "72048         0            1             9  \n",
       "72049         0            1            10  \n",
       "72050         0            1            11  \n",
       "72051         0            1            12  \n",
       "\n",
       "[72052 rows x 8 columns]"
      ]
     },
     "execution_count": 56,
     "metadata": {},
     "output_type": "execute_result"
    }
   ],
   "source": [
    "df"
   ]
  },
  {
   "cell_type": "code",
   "execution_count": 25,
   "id": "41e44e32-280c-41f4-867a-c1d1a29c991c",
   "metadata": {},
   "outputs": [
    {
     "data": {
      "text/plain": [
       "6531"
      ]
     },
     "execution_count": 25,
     "metadata": {},
     "output_type": "execute_result"
    }
   ],
   "source": [
    "len(df.id.unique())"
   ]
  },
  {
   "cell_type": "code",
   "execution_count": null,
   "id": "d92d86ba-dd02-4038-90f9-acb3c4fe32cf",
   "metadata": {},
   "outputs": [],
   "source": []
  }
 ],
 "metadata": {
  "kernelspec": {
   "display_name": "Python 3 (ipykernel)",
   "language": "python",
   "name": "python3"
  },
  "language_info": {
   "codemirror_mode": {
    "name": "ipython",
    "version": 3
   },
   "file_extension": ".py",
   "mimetype": "text/x-python",
   "name": "python",
   "nbconvert_exporter": "python",
   "pygments_lexer": "ipython3",
   "version": "3.8.12"
  }
 },
 "nbformat": 4,
 "nbformat_minor": 5
}
