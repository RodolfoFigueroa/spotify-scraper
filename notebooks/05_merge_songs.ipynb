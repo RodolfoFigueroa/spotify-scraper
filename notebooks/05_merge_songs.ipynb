{
 "cells": [
  {
   "cell_type": "code",
   "execution_count": 10,
   "id": "c677ee6d-c455-4d6d-8ce2-9442c20209c5",
   "metadata": {},
   "outputs": [],
   "source": [
    "import csv\n",
    "import pandas as pd\n",
    "import numpy as np\n",
    "from itertools import zip_longest"
   ]
  },
  {
   "cell_type": "code",
   "execution_count": 13,
   "id": "5de53fd5-81cc-4912-b554-8888a5a4dd57",
   "metadata": {},
   "outputs": [],
   "source": [
    "pending_songs, pending_features = {}, {}\n",
    "\n",
    "with open(\"../files/songs_filtered.csv\", 'r') as f_songs, open(\"../files/song_features.csv\", 'r') as f_features, open(\"../files/songs_merged.csv\", 'w') as f_merged:\n",
    "    reader_songs = csv.reader(f_songs)\n",
    "    reader_features = csv.reader(f_features)\n",
    "    writer = csv.writer(f_merged)\n",
    "    for song, features in zip_longest(reader_songs, reader_features):\n",
    "        if song is not None and features is not None and song[0] == features[0]:\n",
    "            out = song + features[1:]\n",
    "            writer.writerow(out)\n",
    "        else:\n",
    "            if song is not None:\n",
    "                if song[0] in pending_features:\n",
    "                    out = song + pending_features[song[0]][1:]\n",
    "                    writer.writerow(out)\n",
    "                    del pending_features[song[0]]\n",
    "                else:\n",
    "                    pending_songs[song[0]] = song\n",
    "\n",
    "            if features is not None:\n",
    "                if features[0] in pending_songs:\n",
    "                    out = pending_songs[features[0]] + features[1:]\n",
    "                    writer.writerow(out)\n",
    "                    del pending_songs[features[0]]\n",
    "                else:\n",
    "                    pending_features[features[0]] = features"
   ]
  }
 ],
 "metadata": {
  "kernelspec": {
   "display_name": "Python 3 (ipykernel)",
   "language": "python",
   "name": "python3"
  },
  "language_info": {
   "codemirror_mode": {
    "name": "ipython",
    "version": 3
   },
   "file_extension": ".py",
   "mimetype": "text/x-python",
   "name": "python",
   "nbconvert_exporter": "python",
   "pygments_lexer": "ipython3",
   "version": "3.8.12"
  }
 },
 "nbformat": 4,
 "nbformat_minor": 5
}
