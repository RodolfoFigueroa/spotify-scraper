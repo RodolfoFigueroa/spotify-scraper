{
 "cells": [
  {
   "cell_type": "code",
   "execution_count": 1,
   "id": "f5849366-f983-4829-a18d-21a8d7eaed8c",
   "metadata": {},
   "outputs": [],
   "source": [
    "import csv"
   ]
  },
  {
   "cell_type": "code",
   "execution_count": 3,
   "id": "d03f5e12-18f0-40d7-85fa-b40800be664a",
   "metadata": {},
   "outputs": [],
   "source": [
    "ids = set()\n",
    "with open(\"../files/songs.csv\", 'r') as read_file:\n",
    "    with open(\"../files/songs_filtered.csv\", 'w') as write_file:\n",
    "        reader = csv.reader(read_file)\n",
    "        writer = csv.writer(write_file)\n",
    "        writer.writerow(next(reader))\n",
    "        for line in reader:\n",
    "            line_id = line[0]\n",
    "            if line_id not in ids:\n",
    "                ids.add(line_id)\n",
    "                writer.writerow(line)"
   ]
  }
 ],
 "metadata": {
  "kernelspec": {
   "display_name": "Python 3 (ipykernel)",
   "language": "python",
   "name": "python3"
  },
  "language_info": {
   "codemirror_mode": {
    "name": "ipython",
    "version": 3
   },
   "file_extension": ".py",
   "mimetype": "text/x-python",
   "name": "python",
   "nbconvert_exporter": "python",
   "pygments_lexer": "ipython3",
   "version": "3.8.12"
  }
 },
 "nbformat": 4,
 "nbformat_minor": 5
}
