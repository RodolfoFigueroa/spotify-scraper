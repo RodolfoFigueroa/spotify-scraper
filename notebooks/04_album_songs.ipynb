{
 "cells": [
  {
   "cell_type": "code",
   "execution_count": 2,
   "id": "43d07db1-8241-45ee-8164-e0c375871199",
   "metadata": {},
   "outputs": [],
   "source": [
    "import csv\n",
    "import pandas as pd"
   ]
  },
  {
   "cell_type": "code",
   "execution_count": 4,
   "id": "e8918178-0ad5-4c0e-96ed-2098ec59f192",
   "metadata": {},
   "outputs": [],
   "source": [
    "df_songs = pd.read_csv(\"../files/songs_filtered.csv\", usecols=['id', 'album'])"
   ]
  },
  {
   "cell_type": "code",
   "execution_count": 7,
   "id": "77a828f2-01b8-4a45-8802-f688df077a52",
   "metadata": {},
   "outputs": [],
   "source": [
    "albums_grouped = df_songs.groupby('album')['id'].apply(list)\n",
    "albums_grouped = albums_grouped.rename('songs')"
   ]
  },
  {
   "cell_type": "code",
   "execution_count": 17,
   "id": "682c950e-ff47-49bf-bf2c-c7ecf5d655ee",
   "metadata": {},
   "outputs": [],
   "source": [
    "albums_grouped.to_csv(\"../files/album_songs.csv\")"
   ]
  },
  {
   "cell_type": "code",
   "execution_count": null,
   "id": "7d426f60-8ea7-4ec2-8166-3a97eb0fe639",
   "metadata": {},
   "outputs": [],
   "source": []
  }
 ],
 "metadata": {
  "kernelspec": {
   "display_name": "Python 3 (ipykernel)",
   "language": "python",
   "name": "python3"
  },
  "language_info": {
   "codemirror_mode": {
    "name": "ipython",
    "version": 3
   },
   "file_extension": ".py",
   "mimetype": "text/x-python",
   "name": "python",
   "nbconvert_exporter": "python",
   "pygments_lexer": "ipython3",
   "version": "3.8.12"
  }
 },
 "nbformat": 4,
 "nbformat_minor": 5
}
