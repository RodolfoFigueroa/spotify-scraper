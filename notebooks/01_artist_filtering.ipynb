{
 "cells": [
  {
   "cell_type": "code",
   "execution_count": 1,
   "id": "d3c4fc2c-8efe-4091-b57c-409b30adf313",
   "metadata": {},
   "outputs": [],
   "source": [
    "import pandas as pd\n",
    "\n",
    "from ast import literal_eval"
   ]
  },
  {
   "cell_type": "code",
   "execution_count": 2,
   "id": "dc4a29fe-9460-4c4b-9a7b-dbf9374b4997",
   "metadata": {},
   "outputs": [],
   "source": [
    "df = pd.read_csv(\"../backups/artists.csv\")"
   ]
  },
  {
   "cell_type": "code",
   "execution_count": 3,
   "id": "bdf651c2-a039-421b-8786-26a2abaeddef",
   "metadata": {},
   "outputs": [],
   "source": [
    "df = df[df['followers'] >= 1000]\n",
    "df.to_csv(\"../backups/artists_filtered.csv\", index=False)"
   ]
  }
 ],
 "metadata": {
  "interpreter": {
   "hash": "5cf1c7fdcc8eac581bc272ae869e2d5d8737e487f1c4e29769f51c888855cbc4"
  },
  "kernelspec": {
   "display_name": "Python 3 (ipykernel)",
   "language": "python",
   "name": "python3"
  },
  "language_info": {
   "codemirror_mode": {
    "name": "ipython",
    "version": 3
   },
   "file_extension": ".py",
   "mimetype": "text/x-python",
   "name": "python",
   "nbconvert_exporter": "python",
   "pygments_lexer": "ipython3",
   "version": "3.8.12"
  }
 },
 "nbformat": 4,
 "nbformat_minor": 5
}
