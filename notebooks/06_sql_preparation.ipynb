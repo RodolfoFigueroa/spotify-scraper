{
 "cells": [
  {
   "cell_type": "code",
   "execution_count": 1,
   "id": "591596bf-5421-48f6-b563-f23c5c23aade",
   "metadata": {},
   "outputs": [],
   "source": [
    "import uuid\n",
    "import base64\n",
    "import csv\n",
    "import hashlib\n",
    "import numpy as np\n",
    "import pandas as pd\n",
    "from ast import literal_eval"
   ]
  },
  {
   "cell_type": "code",
   "execution_count": 2,
   "id": "1f0d0a09-98c1-4761-b37c-12cf9315303c",
   "metadata": {},
   "outputs": [],
   "source": [
    "def to_uuid(s_id):\n",
    "    return str(uuid.UUID(bytes=base64.urlsafe_b64decode(s_id + '==')))\n",
    "\n",
    "def string_to_uuid(s):\n",
    "    s = s.encode('utf-8')\n",
    "    out = hashlib.md5(s).hexdigest()\n",
    "    return out[:8] + '-' + out[8:12] + '-' + out[12:16] + '-' + out[16:20] + '-' + out[20:]"
   ]
  },
  {
   "cell_type": "code",
   "execution_count": 63,
   "id": "7e3151e5-5c5d-47d0-b5f2-b8984c3a01f2",
   "metadata": {},
   "outputs": [
    {
     "name": "stdout",
     "output_type": "stream",
     "text": [
      "3339499\r"
     ]
    }
   ],
   "source": [
    "with open(\"../files/albums_filtered.csv\", 'r') as f_read, \\\n",
    "    open(\"../files/sql/albums_insert.csv\", 'w') as f_write, \\\n",
    "    open(\"../files/sql/artists_albums.csv\", 'w') as f_rel:\n",
    "    reader = csv.DictReader(f_read)\n",
    "    \n",
    "    names = ['id', 'name', 'type', 'release_date', 'total_tracks']\n",
    "    writer = csv.DictWriter(f_write, names)\n",
    "    writer.writeheader()\n",
    "    \n",
    "    rel_names = ['artist', 'album']\n",
    "    rel_writer = csv.DictWriter(f_rel, rel_names)\n",
    "    rel_writer.writeheader()\n",
    "\n",
    "    count = 0\n",
    "    \n",
    "    for line in reader:\n",
    "        line['id'] = to_uuid(line['id'])\n",
    "        \n",
    "        artists = literal_eval(line['artists'])\n",
    "        for artist in artists:\n",
    "            rel_writer.writerow({'artist': to_uuid(artist), 'album': line['id']})\n",
    "        del line['markets']\n",
    "        del line['artists']\n",
    "        \n",
    "        try:\n",
    "            line['release_date'] = str(pd.to_datetime(line['release_date']).date())\n",
    "        except Exception:\n",
    "            line['release_date'] = None\n",
    "        \n",
    "        writer.writerow(line)\n",
    "        count += 1\n",
    "        print(count, end='\\r')"
   ]
  },
  {
   "cell_type": "code",
   "execution_count": 52,
   "id": "b1ad8126-f4b5-401e-83ab-221322df1857",
   "metadata": {},
   "outputs": [
    {
     "name": "stdout",
     "output_type": "stream",
     "text": [
      "21802240\r"
     ]
    }
   ],
   "source": [
    "with open(\"../files/songs_merged.csv\", 'r') as f_read, \\\n",
    "    open(\"../files/sql/songs_insert.csv\", 'w') as f_write, \\\n",
    "    open(\"../files/sql/artists_songs.csv\", 'w') as f_rel:\n",
    "    reader = csv.DictReader(f_read)\n",
    "    \n",
    "    names = ['id', 'name', 'album', 'duration_ms', 'explicit', 'disc_number', 'track_number', 'danceability', 'energy', 'key', 'loudness', 'mode', 'speechiness', 'acousticness', 'instrumentalness', 'liveness', 'valence', 'tempo', 'time_signature']\n",
    "    writer = csv.DictWriter(f_write, names)\n",
    "    writer.writeheader()\n",
    "    \n",
    "    rel_names = ['artist', 'song']\n",
    "    rel_writer = csv.DictWriter(f_rel, rel_names)\n",
    "    rel_writer.writeheader()\n",
    "    \n",
    "    count = 0\n",
    "    \n",
    "    for line in reader:\n",
    "        line['id'] = to_uuid(line['id'])\n",
    "        line['album'] = to_uuid(line['album'])\n",
    "        \n",
    "        artists = literal_eval(line['artists'])\n",
    "        for artist in artists:\n",
    "            rel_writer.writerow({'artist': to_uuid(artist), 'song': line['id']})\n",
    "        del line['artists']\n",
    "        \n",
    "        writer.writerow(line)\n",
    "        count += 1\n",
    "        print(count, end='\\r')"
   ]
  },
  {
   "cell_type": "code",
   "execution_count": 3,
   "id": "37722b0b-a8f6-41c7-834d-72ff013bd2d7",
   "metadata": {},
   "outputs": [
    {
     "name": "stdout",
     "output_type": "stream",
     "text": [
      "228287\r"
     ]
    }
   ],
   "source": [
    "edges = set()\n",
    "genre_dict = {}\n",
    "\n",
    "with open(\"../files/artists_filtered.csv\", 'r') as f_read, \\\n",
    "    open(\"../files/sql/artists_insert.csv\", 'w') as f_write, \\\n",
    "    open(\"../files/sql/artists_genres.csv\", 'w') as f_rel:\n",
    "    reader = csv.DictReader(f_read)\n",
    "    \n",
    "    names = ['id', 'name', 'followers']\n",
    "    writer = csv.DictWriter(f_write, names)\n",
    "    writer.writeheader()\n",
    "    \n",
    "    rel_names = ['artist', 'genre']\n",
    "    rel_writer = csv.DictWriter(f_rel, rel_names)\n",
    "    rel_writer.writeheader()\n",
    "        \n",
    "    count = 0\n",
    "    for line in reader:\n",
    "        line['id'] = to_uuid(line['id'])\n",
    "        line['followers'] = int(float(line['followers']))\n",
    "        \n",
    "        artists = literal_eval(line['related_artists'])\n",
    "        for artist in artists:\n",
    "            artist = to_uuid(artist)\n",
    "            s = frozenset((line['id'], artist))\n",
    "            edges.add(s)\n",
    "        del line['related_artists']\n",
    "        \n",
    "        genres = literal_eval(line['genres'])\n",
    "        for genre in genres:\n",
    "            if genre not in genre_dict:\n",
    "                genre_dict[genre] = string_to_uuid(genre)\n",
    "            genre_id = genre_dict[genre]\n",
    "            rel_writer.writerow({'artist': line['id'], 'genre': genre_id})\n",
    "        del line['genres']\n",
    "        \n",
    "        writer.writerow(line)\n",
    "        count += 1\n",
    "        print(count, end='\\r')\n",
    "        \n",
    "with open(\"../files/sql/artists_artists.csv\", 'w') as f:\n",
    "    writer = csv.writer(f)\n",
    "    writer.writerow(['source', 'target'])\n",
    "    for edge in edges:\n",
    "        writer.writerow(edge)\n",
    "        \n",
    "del edges\n",
    "\n",
    "with open(\"../files/sql/genres_insert.csv\", 'w') as f:\n",
    "    writer = csv.writer(f)\n",
    "    writer.writerow(['id', 'name'])\n",
    "    for row in genre_dict.items():\n",
    "        writer.writerow([row[1], row[0]])\n",
    "        \n",
    "del genre_dict"
   ]
  },
  {
   "cell_type": "code",
   "execution_count": 9,
   "id": "9b1335f5-053f-40cd-a792-bfb625f90a9b",
   "metadata": {},
   "outputs": [],
   "source": []
  }
 ],
 "metadata": {
  "kernelspec": {
   "display_name": "Python 3 (ipykernel)",
   "language": "python",
   "name": "python3"
  },
  "language_info": {
   "codemirror_mode": {
    "name": "ipython",
    "version": 3
   },
   "file_extension": ".py",
   "mimetype": "text/x-python",
   "name": "python",
   "nbconvert_exporter": "python",
   "pygments_lexer": "ipython3",
   "version": "3.8.12"
  }
 },
 "nbformat": 4,
 "nbformat_minor": 5
}
